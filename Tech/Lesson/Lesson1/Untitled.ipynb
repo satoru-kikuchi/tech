{
 "cells": [
  {
   "cell_type": "code",
   "execution_count": 1,
   "metadata": {
    "collapsed": true
   },
   "outputs": [],
   "source": [
    "import numpy as np\n",
    "import pandas as pd\n",
    "from sklearn import linear_model\n",
    "from sklearn.model_selection import train_test_split\n",
    "from pandas import DataFrame\n",
    "\n",
    "import matplotlib as mpl\n",
    "mpl.use('Agg')\n",
    "\n",
    "import matplotlib.pyplot as plt\n",
    "import seaborn as sns"
   ]
  },
  {
   "cell_type": "code",
   "execution_count": 12,
   "metadata": {
    "collapsed": true
   },
   "outputs": [],
   "source": [
    "# 終値情報を持つcsvから価格を得ます\n",
    "def importData():\n",
    "    btc_price = pd.read_csv('/Users/ryokikuchi/Documents/work/tech/python/Lesson/Lesson1/Chapter16/coindesk-bpi-USD-close_data-2010-07-18_2018-02-25.csv')\n",
    "    data = np.array(btc_price)\n",
    "    return data"
   ]
  },
  {
   "cell_type": "code",
   "execution_count": 21,
   "metadata": {},
   "outputs": [
    {
     "data": {
      "text/plain": [
       "array([[ 0.,  0.,  0., ...,  0.,  0.,  0.],\n",
       "       [ 0.,  0.,  0., ...,  0.,  0.,  0.],\n",
       "       [ 0.,  0.,  0., ...,  0.,  0.,  0.],\n",
       "       ..., \n",
       "       [ 0.,  0.,  0., ...,  0.,  0.,  0.],\n",
       "       [ 0.,  0.,  0., ...,  0.,  0.,  0.],\n",
       "       [ 0.,  0.,  0., ...,  0.,  0.,  0.]])"
      ]
     },
     "execution_count": 21,
     "metadata": {},
     "output_type": "execute_result"
    }
   ],
   "source": [
    "data = np.array(importData())\n",
    "\n",
    "# ここでは15時間前までを見るものとします\n",
    "hour_ago = 15\n",
    "\n",
    "X = np.zeros((len(data), hour_ago))\n",
    "X"
   ]
  },
  {
   "cell_type": "code",
   "execution_count": 24,
   "metadata": {},
   "outputs": [
    {
     "data": {
      "text/plain": [
       "array([ 0.,  0.,  0., ...,  0.,  0.,  0.])"
      ]
     },
     "execution_count": 24,
     "metadata": {},
     "output_type": "execute_result"
    }
   ],
   "source": [
    "# 時間による推移を見て、そこから偏差を学習できるようにします\n",
    "for i in range(0, hour_ago):\n",
    "    X[i:len(data), i] = data[0:len(data) - i, 1]\n",
    "\n",
    "Y = np.zeros(len(data))\n",
    "Y"
   ]
  },
  {
   "cell_type": "code",
   "execution_count": 25,
   "metadata": {},
   "outputs": [
    {
     "data": {
      "text/plain": [
       "array([ -1.00000000e-02,  -1.00000000e-02,   1.00000000e-02, ...,\n",
       "        -4.67080000e+02,   7.97700000e+01,   0.00000000e+00])"
      ]
     },
     "execution_count": 25,
     "metadata": {},
     "output_type": "execute_result"
    }
   ],
   "source": [
    "# 予測する時間を指定します\n",
    "predict_time = 1\n",
    "\n",
    "Y[0:len(Y)-predict_time] = X[predict_time:len(X), 0] - X[0:len(X)-predict_time, 0]\n",
    "Y"
   ]
  },
  {
   "cell_type": "code",
   "execution_count": 30,
   "metadata": {},
   "outputs": [
    {
     "data": {
      "text/plain": [
       "array([[  9.00000000e-02,   0.00000000e+00,   0.00000000e+00, ...,\n",
       "          0.00000000e+00,   0.00000000e+00,   0.00000000e+00],\n",
       "       [  8.00000000e-02,   9.00000000e-02,   0.00000000e+00, ...,\n",
       "          0.00000000e+00,   0.00000000e+00,   0.00000000e+00],\n",
       "       [  7.00000000e-02,   8.00000000e-02,   9.00000000e-02, ...,\n",
       "          0.00000000e+00,   0.00000000e+00,   0.00000000e+00],\n",
       "       ..., \n",
       "       [  1.01494600e+04,   9.83043000e+03,   1.04561700e+04, ...,\n",
       "          8.07080000e+03,   8.55661000e+03,   8.68984000e+03],\n",
       "       [  9.68238000e+03,   1.01494600e+04,   9.83043000e+03, ...,\n",
       "          8.89121000e+03,   8.07080000e+03,   8.55661000e+03],\n",
       "       [  9.76215000e+03,   9.68238000e+03,   1.01494600e+04, ...,\n",
       "          8.51624000e+03,   8.89121000e+03,   8.07080000e+03]])"
      ]
     },
     "execution_count": 30,
     "metadata": {},
     "output_type": "execute_result"
    }
   ],
   "source": [
    "X"
   ]
  },
  {
   "cell_type": "code",
   "execution_count": 19,
   "metadata": {},
   "outputs": [
    {
     "data": {
      "text/plain": [
       "array([ 0.  ,  0.  ,  0.  , ...,  1.71, -1.25,  2.76])"
      ]
     },
     "execution_count": 19,
     "metadata": {},
     "output_type": "execute_result"
    }
   ],
   "source": [
    "#学習では、50~1800行目を使うものとします。これは情報の偏りを防ぐためのものであり、全体でも構いません\n",
    "train_x = X[50:1800, :]\n",
    "train_y = Y[50:1800]\n",
    "train_y"
   ]
  },
  {
   "cell_type": "code",
   "execution_count": 32,
   "metadata": {},
   "outputs": [],
   "source": [
    "# 残りの全てをテストデータとします\n",
    "test_x = X[1800:len(X)-predict_time, :]\n",
    "test_y = Y[1800:len(Y)-predict_time]\n",
    "\n",
    "#TODO: LinearRegression を使用して線形回帰モデルで学習させよう\n",
    "model = linear_model.LinearRegression()\n",
    "model.fit(train_x, train_y)\n",
    "\n",
    "#TODO: pred_y に対して、学習結果を代入しましょう\n",
    "pred_y = model.predict(test_x)\n",
    "\n",
    "# 予測結果を出力します\n",
    "result = pd.DataFrame(pred_y)\n",
    "result.columns = ['pred_y']\n",
    "result['test_y'] = test_y\n",
    "\n",
    "# 結果を output.png に保存します\n",
    "sns.set_style('whitegrid')\n",
    "sns.regplot(x='pred_y', y='test_y', data=result)\n",
    "plt.title('Bitcoin Price')\n",
    "plt.savefig('output.png')"
   ]
  },
  {
   "cell_type": "code",
   "execution_count": null,
   "metadata": {
    "collapsed": true
   },
   "outputs": [],
   "source": []
  },
  {
   "cell_type": "code",
   "execution_count": 23,
   "metadata": {
    "scrolled": true
   },
   "outputs": [
    {
     "data": {
      "text/plain": [
       "array([['2010-07-18 00:00:00', 0.09],\n",
       "       ['2010-07-19 00:00:00', 0.08],\n",
       "       ['2010-07-20 00:00:00', 0.07],\n",
       "       ..., \n",
       "       ['2018-02-23 00:00:00', 10149.46],\n",
       "       ['2018-02-24 00:00:00', 9682.38],\n",
       "       ['2018-02-25 02:07:00', 9762.15]], dtype=object)"
      ]
     },
     "execution_count": 23,
     "metadata": {},
     "output_type": "execute_result"
    }
   ],
   "source": []
  }
 ],
 "metadata": {
  "kernelspec": {
   "display_name": "Python 3",
   "language": "python",
   "name": "python3"
  },
  "language_info": {
   "codemirror_mode": {
    "name": "ipython",
    "version": 3
   },
   "file_extension": ".py",
   "mimetype": "text/x-python",
   "name": "python",
   "nbconvert_exporter": "python",
   "pygments_lexer": "ipython3",
   "version": "3.6.1"
  }
 },
 "nbformat": 4,
 "nbformat_minor": 2
}
